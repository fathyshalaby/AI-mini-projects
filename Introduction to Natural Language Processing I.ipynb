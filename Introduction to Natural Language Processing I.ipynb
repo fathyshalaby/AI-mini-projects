{
  "nbformat": 4,
  "nbformat_minor": 0,
  "metadata": {
    "kernelspec": {
      "display_name": "handson",
      "language": "python",
      "name": "handson"
    },
    "language_info": {
      "codemirror_mode": {
        "name": "ipython",
        "version": 3
      },
      "file_extension": ".py",
      "mimetype": "text/x-python",
      "name": "python",
      "nbconvert_exporter": "python",
      "pygments_lexer": "ipython3",
      "version": "3.7.6"
    },
    "colab": {
      "name": "U6_Assignment.ipynb",
      "provenance": [],
      "collapsed_sections": [],
      "toc_visible": true
    }
  },
  "cells": [
    {
      "cell_type": "markdown",
      "metadata": {
        "id": "32bUBxSipoL8",
        "colab_type": "text"
      },
      "source": [
        "| <p style=\"text-align: left;\">Name</p>               | Matr.Nr. | <p style=\"text-align: right;\">Date</p> |\n",
        "| --------------------------------------------------- | -------- | ------------------------------------- |\n",
        "| <p style=\"text-align: left\">Fathy Shalaby</p> | 11701175 | 1.5.2020                            |"
      ]
    },
    {
      "cell_type": "markdown",
      "metadata": {
        "id": "7NOr-mxkpoMF",
        "colab_type": "text"
      },
      "source": [
        "<h1 style=\"color:rgb(0,120,170)\">Hands-on AI II</h1>\n",
        "<h2 style=\"color:rgb(0,120,170)\">Unit 6 -- Introduction to Natural Language Processing I </h2>"
      ]
    },
    {
      "cell_type": "markdown",
      "metadata": {
        "id": "OUOgSxm0poMJ",
        "colab_type": "text"
      },
      "source": [
        "<b>Authors</b>: Rekabsaz, Brandstetter <br>\n",
        "<b>Date</b>: 29-04-2020\n",
        "\n",
        "This file is part of the \"Hands-on AI II\" lecture material. The following copyright statement applies to all code within this file.\n",
        "\n",
        "<b>Copyright statement:</b><br>\n",
        "This  material,  no  matter  whether  in  printed  or  electronic  form,  may  be  used  for personal  and non-commercial educational use only.  Any reproduction of this manuscript, no matter whether as a whole or in parts, no matter whether in printed or in electronic form, requires explicit prior acceptance of the authors."
      ]
    },
    {
      "cell_type": "code",
      "metadata": {
        "id": "hcqRlfW6qAgd",
        "colab_type": "code",
        "outputId": "90edde33-0050-4f32-da7a-317fec20007b",
        "colab": {
          "base_uri": "https://localhost:8080/",
          "height": 54
        }
      },
      "source": [
        "from google.colab import drive\n",
        "drive.mount('/content/drive')\n",
        "import sys\n",
        "sys.path.append('drive/My Drive/handsonai2')\n"
      ],
      "execution_count": 0,
      "outputs": [
        {
          "output_type": "stream",
          "text": [
            "Drive already mounted at /content/drive; to attempt to forcibly remount, call drive.mount(\"/content/drive\", force_remount=True).\n"
          ],
          "name": "stdout"
        }
      ]
    },
    {
      "cell_type": "markdown",
      "metadata": {
        "id": "zI4FlfQzpoML",
        "colab_type": "text"
      },
      "source": [
        "# Exercise 0\n",
        "\n",
        "- Import the same modules as discussed in the lecture notebook.\n",
        "- Check if your model versions are correct.\n",
        "- Install the resources of <code>spacy</code> package for English language."
      ]
    },
    {
      "cell_type": "code",
      "metadata": {
        "id": "hxMhcJBzpoMT",
        "colab_type": "code",
        "colab": {}
      },
      "source": [
        "# your imports go here\n",
        "import u6_utils as u6\n",
        "\n",
        "import numpy as np\n",
        "import torch\n",
        "import torch.utils.data\n",
        "import torch.nn as nn\n",
        "import matplotlib.pyplot as plt\n",
        "import sys\n",
        "\n",
        "import pandas as pd\n",
        "import numpy as np\n",
        "import itertools\n",
        "import spacy\n",
        "import gensim\n",
        "import sklearn\n",
        "\n",
        "from gensim.corpora.dictionary import Dictionary\n",
        "from gensim.models import TfidfModel\n",
        "from gensim.models import KeyedVectors\n",
        "from gensim.test.utils import datapath\n",
        "\n",
        "from sklearn.svm import SVC\n",
        "from sklearn.naive_bayes import GaussianNB\n",
        "from sklearn.dummy import DummyClassifier\n",
        "from sklearn.tree import DecisionTreeClassifier\n",
        "from sklearn.linear_model import LogisticRegression\n",
        "from sklearn.ensemble import VotingClassifier, RandomForestClassifier\n",
        "from sklearn.neighbors import KNeighborsClassifier\n",
        "from sklearn.manifold import TSNE"
      ],
      "execution_count": 0,
      "outputs": []
    },
    {
      "cell_type": "code",
      "metadata": {
        "id": "Vmwgtk3OpoM0",
        "colab_type": "code",
        "outputId": "ddddb244-11b1-440a-f1bb-023619cb8264",
        "colab": {
          "base_uri": "https://localhost:8080/",
          "height": 153
        }
      },
      "source": [
        "# model version checks\n",
        "u6.check_module_versions()"
      ],
      "execution_count": 0,
      "outputs": [
        {
          "output_type": "stream",
          "text": [
            "Installed Python version: 3.6 (✗)\n",
            "Installed numpy version: 1.18.3 (✓)\n",
            "Installed matplotlib version: 3.2.1 (✓)\n",
            "Installed PyTorch version: 1.5.0+cu101 (✓)\n",
            "Installed Pandas version: 1.0.3 (✓)\n",
            "Installed sklearn version: 0.22.2.post1 (✓)\n",
            "Installed spacy version: 2.2.4 (✓)\n",
            "Installed gensim version: 3.6.0 (✗)\n"
          ],
          "name": "stdout"
        }
      ]
    },
    {
      "cell_type": "code",
      "metadata": {
        "id": "gYgDPCQVpoNO",
        "colab_type": "code",
        "outputId": "1bbff960-5665-4dd8-9ef1-507c3ad1b41a",
        "colab": {
          "base_uri": "https://localhost:8080/",
          "height": 496
        }
      },
      "source": [
        "# installation of spacy package for English language\n",
        "!python -m spacy download en"
      ],
      "execution_count": 0,
      "outputs": [
        {
          "output_type": "stream",
          "text": [
            "Requirement already satisfied: en_core_web_sm==2.2.5 from https://github.com/explosion/spacy-models/releases/download/en_core_web_sm-2.2.5/en_core_web_sm-2.2.5.tar.gz#egg=en_core_web_sm==2.2.5 in /usr/local/lib/python3.6/dist-packages (2.2.5)\n",
            "Requirement already satisfied: spacy>=2.2.2 in /usr/local/lib/python3.6/dist-packages (from en_core_web_sm==2.2.5) (2.2.4)\n",
            "Requirement already satisfied: srsly<1.1.0,>=1.0.2 in /usr/local/lib/python3.6/dist-packages (from spacy>=2.2.2->en_core_web_sm==2.2.5) (1.0.2)\n",
            "Requirement already satisfied: requests<3.0.0,>=2.13.0 in /usr/local/lib/python3.6/dist-packages (from spacy>=2.2.2->en_core_web_sm==2.2.5) (2.23.0)\n",
            "Requirement already satisfied: catalogue<1.1.0,>=0.0.7 in /usr/local/lib/python3.6/dist-packages (from spacy>=2.2.2->en_core_web_sm==2.2.5) (1.0.0)\n",
            "Requirement already satisfied: setuptools in /usr/local/lib/python3.6/dist-packages (from spacy>=2.2.2->en_core_web_sm==2.2.5) (46.1.3)\n",
            "Requirement already satisfied: cymem<2.1.0,>=2.0.2 in /usr/local/lib/python3.6/dist-packages (from spacy>=2.2.2->en_core_web_sm==2.2.5) (2.0.3)\n",
            "Requirement already satisfied: thinc==7.4.0 in /usr/local/lib/python3.6/dist-packages (from spacy>=2.2.2->en_core_web_sm==2.2.5) (7.4.0)\n",
            "Requirement already satisfied: numpy>=1.15.0 in /usr/local/lib/python3.6/dist-packages (from spacy>=2.2.2->en_core_web_sm==2.2.5) (1.18.3)\n",
            "Requirement already satisfied: murmurhash<1.1.0,>=0.28.0 in /usr/local/lib/python3.6/dist-packages (from spacy>=2.2.2->en_core_web_sm==2.2.5) (1.0.2)\n",
            "Requirement already satisfied: plac<1.2.0,>=0.9.6 in /usr/local/lib/python3.6/dist-packages (from spacy>=2.2.2->en_core_web_sm==2.2.5) (1.1.3)\n",
            "Requirement already satisfied: preshed<3.1.0,>=3.0.2 in /usr/local/lib/python3.6/dist-packages (from spacy>=2.2.2->en_core_web_sm==2.2.5) (3.0.2)\n",
            "Requirement already satisfied: blis<0.5.0,>=0.4.0 in /usr/local/lib/python3.6/dist-packages (from spacy>=2.2.2->en_core_web_sm==2.2.5) (0.4.1)\n",
            "Requirement already satisfied: tqdm<5.0.0,>=4.38.0 in /usr/local/lib/python3.6/dist-packages (from spacy>=2.2.2->en_core_web_sm==2.2.5) (4.38.0)\n",
            "Requirement already satisfied: wasabi<1.1.0,>=0.4.0 in /usr/local/lib/python3.6/dist-packages (from spacy>=2.2.2->en_core_web_sm==2.2.5) (0.6.0)\n",
            "Requirement already satisfied: chardet<4,>=3.0.2 in /usr/local/lib/python3.6/dist-packages (from requests<3.0.0,>=2.13.0->spacy>=2.2.2->en_core_web_sm==2.2.5) (3.0.4)\n",
            "Requirement already satisfied: urllib3!=1.25.0,!=1.25.1,<1.26,>=1.21.1 in /usr/local/lib/python3.6/dist-packages (from requests<3.0.0,>=2.13.0->spacy>=2.2.2->en_core_web_sm==2.2.5) (1.24.3)\n",
            "Requirement already satisfied: idna<3,>=2.5 in /usr/local/lib/python3.6/dist-packages (from requests<3.0.0,>=2.13.0->spacy>=2.2.2->en_core_web_sm==2.2.5) (2.9)\n",
            "Requirement already satisfied: certifi>=2017.4.17 in /usr/local/lib/python3.6/dist-packages (from requests<3.0.0,>=2.13.0->spacy>=2.2.2->en_core_web_sm==2.2.5) (2020.4.5.1)\n",
            "Requirement already satisfied: importlib-metadata>=0.20; python_version < \"3.8\" in /usr/local/lib/python3.6/dist-packages (from catalogue<1.1.0,>=0.0.7->spacy>=2.2.2->en_core_web_sm==2.2.5) (1.6.0)\n",
            "Requirement already satisfied: zipp>=0.5 in /usr/local/lib/python3.6/dist-packages (from importlib-metadata>=0.20; python_version < \"3.8\"->catalogue<1.1.0,>=0.0.7->spacy>=2.2.2->en_core_web_sm==2.2.5) (3.1.0)\n",
            "\u001b[38;5;2m✔ Download and installation successful\u001b[0m\n",
            "You can now load the model via spacy.load('en_core_web_sm')\n",
            "\u001b[38;5;2m✔ Linking successful\u001b[0m\n",
            "/usr/local/lib/python3.6/dist-packages/en_core_web_sm -->\n",
            "/usr/local/lib/python3.6/dist-packages/spacy/data/en\n",
            "You can now load the model via spacy.load('en')\n"
          ],
          "name": "stdout"
        }
      ]
    },
    {
      "cell_type": "markdown",
      "metadata": {
        "id": "NkkhQJkXpoNp",
        "colab_type": "text"
      },
      "source": [
        "<h3 style=\"color:rgb(0,120,170)\">Parameters</h3>"
      ]
    },
    {
      "cell_type": "code",
      "metadata": {
        "id": "1Ak0Jt6vpoNw",
        "colab_type": "code",
        "colab": {}
      },
      "source": [
        "DATA_PATH = 'resources/thedeep.data.txt'\n",
        "LABELS_PATH = 'resources/thedeep.labels.txt'\n",
        "\n",
        "TEST_SPLIT = 0.1\n",
        "MAX_NB_WORDS=20000"
      ],
      "execution_count": 0,
      "outputs": []
    },
    {
      "cell_type": "markdown",
      "metadata": {
        "id": "YG3giwVkpoOP",
        "colab_type": "text"
      },
      "source": [
        "<h3 style=\"color:rgb(0,120,170)\">Loading Data</h3>\n",
        "Loading they CSV formatted data"
      ]
    },
    {
      "cell_type": "code",
      "metadata": {
        "id": "VYb6yE-BuktQ",
        "colab_type": "code",
        "outputId": "3e75bad4-23ad-4468-f763-26a94d160639",
        "colab": {
          "base_uri": "https://localhost:8080/",
          "height": 34
        }
      },
      "source": [
        "%cd /content/drive/My\\ Drive/handsonai2/"
      ],
      "execution_count": 0,
      "outputs": [
        {
          "output_type": "stream",
          "text": [
            "/content/drive/My Drive/handsonai2\n"
          ],
          "name": "stdout"
        }
      ]
    },
    {
      "cell_type": "code",
      "metadata": {
        "scrolled": true,
        "id": "nWps9P51poOY",
        "colab_type": "code",
        "outputId": "b61aea52-bda9-499d-a273-0b25d84d27a1",
        "colab": {
          "base_uri": "https://localhost:8080/",
          "height": 235
        }
      },
      "source": [
        "df = pd.read_csv(DATA_PATH, sep=\",\", index_col=\"sentence_id\")\n",
        "df.head()"
      ],
      "execution_count": 0,
      "outputs": [
        {
          "output_type": "execute_result",
          "data": {
            "text/html": [
              "<div>\n",
              "<style scoped>\n",
              "    .dataframe tbody tr th:only-of-type {\n",
              "        vertical-align: middle;\n",
              "    }\n",
              "\n",
              "    .dataframe tbody tr th {\n",
              "        vertical-align: top;\n",
              "    }\n",
              "\n",
              "    .dataframe thead th {\n",
              "        text-align: right;\n",
              "    }\n",
              "</style>\n",
              "<table border=\"1\" class=\"dataframe\">\n",
              "  <thead>\n",
              "    <tr style=\"text-align: right;\">\n",
              "      <th></th>\n",
              "      <th>text</th>\n",
              "      <th>label</th>\n",
              "    </tr>\n",
              "    <tr>\n",
              "      <th>sentence_id</th>\n",
              "      <th></th>\n",
              "      <th></th>\n",
              "    </tr>\n",
              "  </thead>\n",
              "  <tbody>\n",
              "    <tr>\n",
              "      <th>0</th>\n",
              "      <td>However, some northern areas experienced a lat...</td>\n",
              "      <td>3</td>\n",
              "    </tr>\n",
              "    <tr>\n",
              "      <th>1</th>\n",
              "      <td>In Haiti, since the beginning of the outbreak ...</td>\n",
              "      <td>4</td>\n",
              "    </tr>\n",
              "    <tr>\n",
              "      <th>2</th>\n",
              "      <td>“More than a million children are out of prima...</td>\n",
              "      <td>2</td>\n",
              "    </tr>\n",
              "    <tr>\n",
              "      <th>3</th>\n",
              "      <td>[as of march]Food access remains extremely pro...</td>\n",
              "      <td>3</td>\n",
              "    </tr>\n",
              "    <tr>\n",
              "      <th>4</th>\n",
              "      <td>Swift, well-coordinated actions by different c...</td>\n",
              "      <td>10</td>\n",
              "    </tr>\n",
              "  </tbody>\n",
              "</table>\n",
              "</div>"
            ],
            "text/plain": [
              "                                                          text  label\n",
              "sentence_id                                                          \n",
              "0            However, some northern areas experienced a lat...      3\n",
              "1            In Haiti, since the beginning of the outbreak ...      4\n",
              "2            “More than a million children are out of prima...      2\n",
              "3            [as of march]Food access remains extremely pro...      3\n",
              "4            Swift, well-coordinated actions by different c...     10"
            ]
          },
          "metadata": {
            "tags": []
          },
          "execution_count": 34
        }
      ]
    },
    {
      "cell_type": "markdown",
      "metadata": {
        "id": "Okr7dYJQpoO0",
        "colab_type": "text"
      },
      "source": [
        "# Exercise 1\n",
        "\n",
        "- Get the label captions from the file 'resources/thedeep.labels.txt'.\n",
        "- Reverse the label captions, i.e. that 'Agriculture' has the label 11 instead of the label 0.\n",
        "- Print the reversed label captions dictionary and work with the dictionary from now on."
      ]
    },
    {
      "cell_type": "code",
      "metadata": {
        "id": "xpbOotvHpoO9",
        "colab_type": "code",
        "outputId": "9ee0a314-c822-43c3-cb20-6b34d19aacad",
        "colab": {
          "base_uri": "https://localhost:8080/",
          "height": 221
        }
      },
      "source": [
        "# get the label captions\n",
        "labelcaptions = {}\n",
        "with open(LABELS_PATH) as fr:\n",
        "    for label in fr:\n",
        "        vals = label.strip().split(',')\n",
        "        labelcaptions[vals[1]] = int(vals[0])\n",
        "labelcaptions"
      ],
      "execution_count": 0,
      "outputs": [
        {
          "output_type": "execute_result",
          "data": {
            "text/plain": [
              "{'Agriculture': 0,\n",
              " 'Cross': 1,\n",
              " 'Education': 2,\n",
              " 'Food': 3,\n",
              " 'Health': 4,\n",
              " 'Livelihood': 5,\n",
              " 'Logistic': 6,\n",
              " 'NFI': 7,\n",
              " 'Nutrition': 8,\n",
              " 'Protection': 9,\n",
              " 'Shelter': 10,\n",
              " 'WASH': 11}"
            ]
          },
          "metadata": {
            "tags": []
          },
          "execution_count": 36
        }
      ]
    },
    {
      "cell_type": "code",
      "metadata": {
        "id": "tWIiBmx8poPW",
        "colab_type": "code",
        "outputId": "680b79a6-7c39-40a8-be7a-a6cf7c8cd1b2",
        "colab": {
          "base_uri": "https://localhost:8080/",
          "height": 221
        }
      },
      "source": [
        "# reverse the label captions and print them\n",
        "keylist = list(labelcaptions.keys())\n",
        "valueslist = list(labelcaptions.values())\n",
        "k = reversed(valueslist)\n",
        "newlabelcaptions = dict(zip(keylist, k))\n",
        "newlabelcaptions"
      ],
      "execution_count": 0,
      "outputs": [
        {
          "output_type": "execute_result",
          "data": {
            "text/plain": [
              "{'Agriculture': 11,\n",
              " 'Cross': 10,\n",
              " 'Education': 9,\n",
              " 'Food': 8,\n",
              " 'Health': 7,\n",
              " 'Livelihood': 6,\n",
              " 'Logistic': 5,\n",
              " 'NFI': 4,\n",
              " 'Nutrition': 3,\n",
              " 'Protection': 2,\n",
              " 'Shelter': 1,\n",
              " 'WASH': 0}"
            ]
          },
          "metadata": {
            "tags": []
          },
          "execution_count": 46
        }
      ]
    },
    {
      "cell_type": "markdown",
      "metadata": {
        "id": "S5i4JZWWpoPn",
        "colab_type": "text"
      },
      "source": [
        "<h3 style=\"color:rgb(0,120,170)\">Pre-processing</h3>\n",
        "Applying lemmatization, remove punctuations and finally tokenizes the text ... it takes some time!"
      ]
    },
    {
      "cell_type": "code",
      "metadata": {
        "id": "ngq9K7tXpoPq",
        "colab_type": "code",
        "outputId": "e387bd1e-11ed-4af4-e38c-453554a9ff1a",
        "colab": {
          "base_uri": "https://localhost:8080/",
          "height": 286
        }
      },
      "source": [
        "nlp = spacy.load('en')\n",
        "\n",
        "df['text_preprocessed'] = df.text.apply(lambda x: [token for token in nlp(x) if not token.is_punct])\n",
        "df.head()"
      ],
      "execution_count": 0,
      "outputs": [
        {
          "output_type": "execute_result",
          "data": {
            "text/html": [
              "<div>\n",
              "<style scoped>\n",
              "    .dataframe tbody tr th:only-of-type {\n",
              "        vertical-align: middle;\n",
              "    }\n",
              "\n",
              "    .dataframe tbody tr th {\n",
              "        vertical-align: top;\n",
              "    }\n",
              "\n",
              "    .dataframe thead th {\n",
              "        text-align: right;\n",
              "    }\n",
              "</style>\n",
              "<table border=\"1\" class=\"dataframe\">\n",
              "  <thead>\n",
              "    <tr style=\"text-align: right;\">\n",
              "      <th></th>\n",
              "      <th>text</th>\n",
              "      <th>label</th>\n",
              "      <th>text_preprocessed</th>\n",
              "    </tr>\n",
              "    <tr>\n",
              "      <th>sentence_id</th>\n",
              "      <th></th>\n",
              "      <th></th>\n",
              "      <th></th>\n",
              "    </tr>\n",
              "  </thead>\n",
              "  <tbody>\n",
              "    <tr>\n",
              "      <th>0</th>\n",
              "      <td>However, some northern areas experienced a lat...</td>\n",
              "      <td>3</td>\n",
              "      <td>[However, some, northern, areas, experienced, ...</td>\n",
              "    </tr>\n",
              "    <tr>\n",
              "      <th>1</th>\n",
              "      <td>In Haiti, since the beginning of the outbreak ...</td>\n",
              "      <td>4</td>\n",
              "      <td>[In, Haiti, since, the, beginning, of, the, ou...</td>\n",
              "    </tr>\n",
              "    <tr>\n",
              "      <th>2</th>\n",
              "      <td>“More than a million children are out of prima...</td>\n",
              "      <td>2</td>\n",
              "      <td>[More, than, a, million, children, are, out, o...</td>\n",
              "    </tr>\n",
              "    <tr>\n",
              "      <th>3</th>\n",
              "      <td>[as of march]Food access remains extremely pro...</td>\n",
              "      <td>3</td>\n",
              "      <td>[as, of, march]Food, access, remains, extremel...</td>\n",
              "    </tr>\n",
              "    <tr>\n",
              "      <th>4</th>\n",
              "      <td>Swift, well-coordinated actions by different c...</td>\n",
              "      <td>10</td>\n",
              "      <td>[Swift, well, coordinated, actions, by, differ...</td>\n",
              "    </tr>\n",
              "  </tbody>\n",
              "</table>\n",
              "</div>"
            ],
            "text/plain": [
              "                                                          text  ...                                  text_preprocessed\n",
              "sentence_id                                                     ...                                                   \n",
              "0            However, some northern areas experienced a lat...  ...  [However, some, northern, areas, experienced, ...\n",
              "1            In Haiti, since the beginning of the outbreak ...  ...  [In, Haiti, since, the, beginning, of, the, ou...\n",
              "2            “More than a million children are out of prima...  ...  [More, than, a, million, children, are, out, o...\n",
              "3            [as of march]Food access remains extremely pro...  ...  [as, of, march]Food, access, remains, extremel...\n",
              "4            Swift, well-coordinated actions by different c...  ...  [Swift, well, coordinated, actions, by, differ...\n",
              "\n",
              "[5 rows x 3 columns]"
            ]
          },
          "metadata": {
            "tags": []
          },
          "execution_count": 47
        }
      ]
    },
    {
      "cell_type": "markdown",
      "metadata": {
        "id": "WXDyxxggpoP2",
        "colab_type": "text"
      },
      "source": [
        "<h3 style=\"color:rgb(0,120,170)\">Loading documents and labels in arrays.</h3> \n",
        "It will then be more convenient for data splitting and learning models."
      ]
    },
    {
      "cell_type": "code",
      "metadata": {
        "id": "cNTbO9ACpoP_",
        "colab_type": "code",
        "outputId": "a5fe9325-adcc-4599-9570-8bc57f079039",
        "colab": {
          "base_uri": "https://localhost:8080/",
          "height": 34
        }
      },
      "source": [
        "documents = []\n",
        "for row in df.text_preprocessed:\n",
        "    documents.append([token.lemma_ for token in row])\n",
        "labels = np.array(list(df['label'].values))\n",
        "print ('%d data items' % len(documents))\n",
        "\n",
        "df=None"
      ],
      "execution_count": 0,
      "outputs": [
        {
          "output_type": "stream",
          "text": [
            "12000 data items\n"
          ],
          "name": "stdout"
        }
      ]
    },
    {
      "cell_type": "markdown",
      "metadata": {
        "id": "senmOoAZpoQW",
        "colab_type": "text"
      },
      "source": [
        "<h3 style=\"color:rgb(0,120,170)\">Splitting Data to Train/Validation/Test</h3>"
      ]
    },
    {
      "cell_type": "code",
      "metadata": {
        "id": "2o_EZD4tpoQb",
        "colab_type": "code",
        "outputId": "fe99b814-f606-44d1-daf0-8ff9ddd4a402",
        "colab": {
          "base_uri": "https://localhost:8080/",
          "height": 34
        }
      },
      "source": [
        "docs_train, docs_valtest, labels_train, labels_valtest = sklearn.model_selection.train_test_split(documents, labels, test_size=TEST_SPLIT*2, random_state=42)\n",
        "docs_val, docs_test, labels_val, labels_test = sklearn.model_selection.train_test_split(docs_valtest, labels_valtest, test_size=0.5, random_state=43)\n",
        "\n",
        "print (\"Train/Validation/Test sizes : %d / %d / %d\" % (len(docs_train), len(docs_val), len(docs_test)))\n",
        "\n",
        "documents=None\n",
        "labels=None"
      ],
      "execution_count": 0,
      "outputs": [
        {
          "output_type": "stream",
          "text": [
            "Train/Validation/Test sizes : 9600 / 1200 / 1200\n"
          ],
          "name": "stdout"
        }
      ]
    },
    {
      "cell_type": "markdown",
      "metadata": {
        "id": "EbLpod58poQ6",
        "colab_type": "text"
      },
      "source": [
        "# Exercise 2\n",
        "\n",
        "Looking at the distribution of word frequencies in the training dataset.\n",
        "\n",
        "- Plot 'Words ID' vs 'Words Count' to verify Zipf's law.\n",
        "- Plot 'Words ID' vs 'Words Count' in Log-Log scale.\n",
        "- Plot 'Words ID' vs 'Words Count' with only the X-axis in Log scale.\n",
        "- Plot 'Words ID' vs 'Words Count' with only th Y-axis in Log scale.\n",
        "- Count the number of different words.\n",
        "- What are the 10 most frequent words, how often do they occur?\n",
        "- What is the number of words with exactly one occurence?"
      ]
    },
    {
      "cell_type": "code",
      "metadata": {
        "id": "COzN3ajPpoQ8",
        "colab_type": "code",
        "outputId": "2d3e7d98-b7ff-4738-9515-f95ba61a525a",
        "colab": {
          "base_uri": "https://localhost:8080/",
          "height": 1000
        }
      },
      "source": [
        "tokens_count = {}\n",
        "for doc in docs_train:\n",
        "    for token in doc:\n",
        "        if (token in tokens_count):\n",
        "            tokens_count[token] += 1\n",
        "        else:\n",
        "            tokens_count[token] = 1\n",
        "\n",
        "tokens_count = {k: v for k, v in sorted(tokens_count.items(), key=lambda item: item[1], reverse=True)}\n",
        "\n",
        "# your code goes here\n",
        "\n",
        "#Plot 'Words ID' vs 'Words Count' to verify Zipf's law.\n",
        "plt.figure(figsize=(8,6))\n",
        "plt.plot(list(tokens_count.values()))\n",
        "plt.xlabel('Words ID')\n",
        "plt.ylabel('Words Count')\n",
        "plt.show()\n",
        "#Plot 'Words ID' vs 'Words Count' in Log-Log scale.\n",
        "plt.figure(figsize=(8,6))\n",
        "plt.plot(list(tokens_count.values()))\n",
        "plt.xscale('log')\n",
        "plt.yscale('log')\n",
        "plt.xlabel('Words ID - Log Scale')\n",
        "plt.ylabel('Words Count - Log Scale')\n",
        "plt.show()\n",
        "#Plot 'Words ID' vs 'Words Count' with only the X-axis in Log scale.\n",
        "plt.figure(figsize=(8,6))\n",
        "plt.plot(list(tokens_count.values()))\n",
        "plt.xscale('log')\n",
        "plt.xlabel('Words ID - Log Scale')\n",
        "plt.ylabel('Words Count - Log Scale')\n",
        "plt.show()\n",
        "#Plot 'Words ID' vs 'Words Count' with only th Y-axis in Log scale.\n",
        "plt.figure(figsize=(8,6))\n",
        "plt.plot(list(tokens_count.values()))\n",
        "plt.yscale('log')\n",
        "plt.xlabel('Words ID - Log Scale')\n",
        "plt.ylabel('Words Count - Log Scale')\n",
        "plt.show()\n",
        "#Count the number of different words.\n",
        "print(\"Different Words with (spacy) Stopwords:\", len(tokens_count))\n",
        "#What are the 10 most frequent words, how often do they occur?\n",
        "print(\"Top 5 Words with (spacy) Stopwords and their occurences:\", list(tokens_count.keys())[0:5],list(tokens_count.values())[0:5])\n",
        "#What is the number of words with exactly one occurence?\n",
        "i=0\n",
        "for key in tokens_count.keys():\n",
        "  if tokens_count[key]==1:\n",
        "    i+=1\n",
        "print('Number of words with exactly one occurence:',i)\n"
      ],
      "execution_count": 0,
      "outputs": [
        {
          "output_type": "display_data",
          "data": {
            "image/png": "[encoded data removed]",
            "text/plain": [
              "<Figure size 576x432 with 1 Axes>"
            ]
          },
          "metadata": {
            "tags": [],
            "needs_background": "light"
          }
        },
        {
          "output_type": "display_data",
          "data": {
            "image/png": "[encoded data removed]",
            "text/plain": [
              "<Figure size 576x432 with 1 Axes>"
            ]
          },
          "metadata": {
            "tags": [],
            "needs_background": "light"
          }
        },
        {
          "output_type": "display_data",
          "data": {
            "image/png": "[encoded data removed]",
            "text/plain": [
              "<Figure size 576x432 with 1 Axes>"
            ]
          },
          "metadata": {
            "tags": [],
            "needs_background": "light"
          }
        },
        {
          "output_type": "display_data",
          "data": {
            "image/png": "[encoded data removed]",
            "text/plain": [
              "<Figure size 576x432 with 1 Axes>"
            ]
          },
          "metadata": {
            "tags": [],
            "needs_background": "light"
          }
        },
        {
          "output_type": "stream",
          "text": [
            "Different Words with (spacy) Stopwords: 25764\n",
            "Top 5 Words with (spacy) Stopwords and their occurences: ['the', 'of', 'and', 'in', 'be'] [39173, 27927, 25444, 24256, 24217]\n",
            "Number of words with exactly one occurence: 11819\n"
          ],
          "name": "stdout"
        }
      ]
    },
    {
      "cell_type": "markdown",
      "metadata": {
        "id": "BuPRyZ9mpoRR",
        "colab_type": "text"
      },
      "source": [
        "<h3 style=\"color:rgb(0,120,170)\">Creating a dictionary</h3>\n",
        "We create a dictionary by removing extremely frequent words and keeping the top <i>MAX_NB_WORDS=20000</i> words"
      ]
    },
    {
      "cell_type": "code",
      "metadata": {
        "id": "7xe9nKBqpoRT",
        "colab_type": "code",
        "outputId": "22e4814a-2d6f-4c1b-89aa-7940d34706d0",
        "colab": {
          "base_uri": "https://localhost:8080/",
          "height": 34
        }
      },
      "source": [
        "dic = Dictionary(docs_train)\n",
        "dic.filter_extremes(no_below=1, no_above=0.5, keep_n=MAX_NB_WORDS)\n",
        "dic.compactify()\n",
        "print(\"Total %s unique tokens.\" % len(dic))"
      ],
      "execution_count": 0,
      "outputs": [
        {
          "output_type": "stream",
          "text": [
            "Total 20000 unique tokens.\n"
          ],
          "name": "stdout"
        }
      ]
    },
    {
      "cell_type": "markdown",
      "metadata": {
        "id": "BPdxN9qPpoRo",
        "colab_type": "text"
      },
      "source": [
        "<h3 style=\"color:rgb(0,120,170)\">Feature vectors of documents</h3>\n",
        "Using the created dictionary, we first convert text documents to wordIDs and term counts."
      ]
    },
    {
      "cell_type": "code",
      "metadata": {
        "id": "qEH-y_fPpoRq",
        "colab_type": "code",
        "colab": {}
      },
      "source": [
        "docs_train_bow = [dic.doc2bow(_doc) for _doc in docs_train] \n",
        "docs_val_bow = [dic.doc2bow(_doc) for _doc in docs_val] \n",
        "docs_test_bow = [dic.doc2bow(_doc) for _doc in docs_test] "
      ],
      "execution_count": 0,
      "outputs": []
    },
    {
      "cell_type": "markdown",
      "metadata": {
        "id": "Dvcim3NjpoSF",
        "colab_type": "text"
      },
      "source": [
        "# Exercise 3\n",
        "\n",
        "- Take a look at the bag-of-word dictionary of the training ('docs_train_bow'). How many words does the longest dictionary entry have? How many word does the shortest dictionary entry have?"
      ]
    },
    {
      "cell_type": "code",
      "metadata": {
        "id": "vV8wpCSNpoSK",
        "colab_type": "code",
        "outputId": "61e6cbf6-e230-4123-b922-180aa918213f",
        "colab": {
          "base_uri": "https://localhost:8080/",
          "height": 51
        }
      },
      "source": [
        "# your code goes here\n",
        "maxList = max(docs_train_bow, key = lambda i: len(i))\n",
        "print('Words found in longest entry',len(maxList))\n",
        "minList = min(docs_train_bow, key = lambda i: len(i))\n",
        "print('Words found in shortest entry',len(minList))\n"
      ],
      "execution_count": 0,
      "outputs": [
        {
          "output_type": "stream",
          "text": [
            "Words found in longest entry 643\n",
            "Words found in shortest entry 3\n"
          ],
          "name": "stdout"
        }
      ]
    },
    {
      "cell_type": "markdown",
      "metadata": {
        "id": "xNPM6CxwpoSx",
        "colab_type": "text"
      },
      "source": [
        "<h3 style=\"color:rgb(0,120,170)\">Creating TF-IDF vectors</h3>\n",
        "To create the TF_IDF vectors, we train the TfidfModel model using the bag-of-word representations of training data"
      ]
    },
    {
      "cell_type": "code",
      "metadata": {
        "id": "CeK6YSQ_poS5",
        "colab_type": "code",
        "colab": {}
      },
      "source": [
        "weight_model = TfidfModel(docs_train_bow)\n",
        "\n",
        "docs_train_tfidf=[]\n",
        "docs_val_tfidf=[]\n",
        "docs_test_tfidf=[]\n",
        "\n",
        "for _bow in docs_train_bow:\n",
        "    docs_train_tfidf.append(weight_model[_bow])\n",
        "for _bow in docs_val_bow:\n",
        "    docs_val_tfidf.append(weight_model[_bow])\n",
        "for _bow in docs_test_bow:\n",
        "    docs_test_tfidf.append(weight_model[_bow])"
      ],
      "execution_count": 0,
      "outputs": []
    },
    {
      "cell_type": "markdown",
      "metadata": {
        "id": "0XiH6C27poTX",
        "colab_type": "text"
      },
      "source": [
        "<h3 style=\"color:rgb(0,120,170)\">Dimensionality Reduction</h3>\n",
        "Before training the models, we want to reduce the dimensionality of the TFIDF vector using the LSA method. <br>\n",
        "We sparsify the TFIDF vectors, train an SVD model for dimensionality reduction, and reduce the dimension of the vectors."
      ]
    },
    {
      "cell_type": "code",
      "metadata": {
        "id": "C4WX3FlEpoTe",
        "colab_type": "code",
        "colab": {}
      },
      "source": [
        "docs_train_tfidf_sparse = np.zeros((len(docs_train_tfidf), MAX_NB_WORDS))\n",
        "for doc_i, doc in enumerate(docs_train_tfidf):\n",
        "    for item in doc:\n",
        "        docs_train_tfidf_sparse[doc_i][item[0]] = item[1]\n",
        "        \n",
        "docs_val_tfidf_sparse = np.zeros((len(docs_val_tfidf), MAX_NB_WORDS))\n",
        "for doc_i, doc in enumerate(docs_val_tfidf):\n",
        "    for item in doc:\n",
        "        docs_val_tfidf_sparse[doc_i][item[0]] = item[1]\n",
        "        \n",
        "docs_test_tfidf_sparse = np.zeros((len(docs_test_tfidf), MAX_NB_WORDS))\n",
        "for doc_i, doc in enumerate(docs_test_tfidf):\n",
        "    for item in doc:\n",
        "        docs_test_tfidf_sparse[doc_i][item[0]] = item[1]\n",
        "        \n",
        "svd = sklearn.decomposition.TruncatedSVD(n_components=300)\n",
        "svd.fit(docs_train_tfidf_sparse)\n",
        "\n",
        "vecs_train = svd.transform(docs_train_tfidf_sparse)\n",
        "vecs_val = svd.transform(docs_val_tfidf_sparse)\n",
        "vecs_test = svd.transform(docs_test_tfidf_sparse)"
      ],
      "execution_count": 0,
      "outputs": []
    },
    {
      "cell_type": "markdown",
      "metadata": {
        "id": "Q5y-QRzjpoT5",
        "colab_type": "text"
      },
      "source": [
        "# Exercise 4\n",
        "\n",
        "- Train different models to predict the labels of the test dataset: NaiveBayes, $k$-nearest neighbors (with $k$=10), and RandomForest (with n_estimators=100).\n",
        "- Which classifier performs best?\n",
        "- Plot the accuracy for each of the classifier\n",
        "- Plot the per-class evaluation of the best classifier"
      ]
    },
    {
      "cell_type": "code",
      "metadata": {
        "id": "UbSXIggWpoT-",
        "colab_type": "code",
        "colab": {}
      },
      "source": [
        "def train(x, y, modelname):\n",
        " \n",
        "    # your code goes here \n",
        "\n",
        "    if modelname=='NaiveBayes':\n",
        "        clf = GaussianNB()\n",
        "    elif modelname=='kNN':\n",
        "        clf = KNeighborsClassifier(n_neighbors=10)\n",
        "    elif modelname=='RandomForest':\n",
        "        clf = RandomForestClassifier(n_estimators=100, random_state=1)\n",
        "    else:\n",
        "        print ('No definition for the model name %s!' % modelname)\n",
        "    clf.fit(x, y) \n",
        "    return clf"
      ],
      "execution_count": 0,
      "outputs": []
    },
    {
      "cell_type": "code",
      "metadata": {
        "id": "ry5LtkoypoUV",
        "colab_type": "code",
        "outputId": "d9e2264b-ffe5-4101-ba12-f0999e189ce7",
        "colab": {
          "base_uri": "https://localhost:8080/",
          "height": 340
        }
      },
      "source": [
        "modelnames = ['NaiveBayes','kNN','RandomForest']\n",
        "\n",
        "# your code goes here\n",
        "predictions = {}\n",
        "for modelname in modelnames:\n",
        "    print (modelname)\n",
        "    model = train(vecs_train, labels_train, modelname)\n",
        "    print (model)\n",
        "    \n",
        "    predictions[modelname] = model.predict(vecs_test)\n",
        "    print (predictions[modelname])\n",
        "    \n",
        "print ('done!')"
      ],
      "execution_count": 0,
      "outputs": [
        {
          "output_type": "stream",
          "text": [
            "NaiveBayes\n",
            "GaussianNB(priors=None, var_smoothing=1e-09)\n",
            "[7 9 4 ... 3 2 9]\n",
            "kNN\n",
            "KNeighborsClassifier(algorithm='auto', leaf_size=30, metric='minkowski',\n",
            "                     metric_params=None, n_jobs=None, n_neighbors=10, p=2,\n",
            "                     weights='uniform')\n",
            "[7 9 4 ... 3 2 3]\n",
            "RandomForest\n",
            "RandomForestClassifier(bootstrap=True, ccp_alpha=0.0, class_weight=None,\n",
            "                       criterion='gini', max_depth=None, max_features='auto',\n",
            "                       max_leaf_nodes=None, max_samples=None,\n",
            "                       min_impurity_decrease=0.0, min_impurity_split=None,\n",
            "                       min_samples_leaf=1, min_samples_split=2,\n",
            "                       min_weight_fraction_leaf=0.0, n_estimators=100,\n",
            "                       n_jobs=None, oob_score=False, random_state=1, verbose=0,\n",
            "                       warm_start=False)\n",
            "[10  9  4 ...  3  2  9]\n",
            "done!\n"
          ],
          "name": "stdout"
        }
      ]
    },
    {
      "cell_type": "code",
      "metadata": {
        "id": "jVdEFkZ3poUt",
        "colab_type": "code",
        "outputId": "3dd88451-104d-498f-b7fe-c74d769b5bbf",
        "colab": {
          "base_uri": "https://localhost:8080/",
          "height": 1000
        }
      },
      "source": [
        "results={}\n",
        "\n",
        "# your code goes here\n",
        "for modelname in predictions:\n",
        "    print (modelname)\n",
        "    results[modelname] = sklearn.metrics.classification_report(labels_test, predictions[modelname], output_dict=True)\n",
        "    print (sklearn.metrics.classification_report(labels_test, predictions[modelname]))"
      ],
      "execution_count": 0,
      "outputs": [
        {
          "output_type": "stream",
          "text": [
            "NaiveBayes\n",
            "              precision    recall  f1-score   support\n",
            "\n",
            "           0       0.33      0.44      0.38        39\n",
            "           1       0.21      0.19      0.20        42\n",
            "           2       0.76      0.63      0.69        60\n",
            "           3       0.65      0.41      0.50       187\n",
            "           4       0.79      0.53      0.63       223\n",
            "           5       0.42      0.15      0.22        93\n",
            "           6       0.10      0.80      0.17        20\n",
            "           7       0.16      0.31      0.21        42\n",
            "           8       0.66      0.33      0.44        82\n",
            "           9       0.39      0.68      0.49       203\n",
            "          10       0.61      0.38      0.47       124\n",
            "          11       0.56      0.26      0.35        85\n",
            "\n",
            "    accuracy                           0.45      1200\n",
            "   macro avg       0.47      0.43      0.40      1200\n",
            "weighted avg       0.56      0.45      0.46      1200\n",
            "\n",
            "kNN\n",
            "              precision    recall  f1-score   support\n",
            "\n",
            "           0       0.36      0.23      0.28        39\n",
            "           1       0.20      0.12      0.15        42\n",
            "           2       0.68      0.57      0.62        60\n",
            "           3       0.37      0.73      0.49       187\n",
            "           4       0.78      0.66      0.72       223\n",
            "           5       0.34      0.13      0.19        93\n",
            "           6       0.43      0.15      0.22        20\n",
            "           7       0.35      0.21      0.26        42\n",
            "           8       0.86      0.30      0.45        82\n",
            "           9       0.50      0.79      0.61       203\n",
            "          10       0.64      0.45      0.53       124\n",
            "          11       0.67      0.28      0.40        85\n",
            "\n",
            "    accuracy                           0.52      1200\n",
            "   macro avg       0.51      0.39      0.41      1200\n",
            "weighted avg       0.56      0.52      0.50      1200\n",
            "\n",
            "RandomForest\n",
            "              precision    recall  f1-score   support\n",
            "\n",
            "           0       0.56      0.23      0.33        39\n",
            "           1       0.56      0.12      0.20        42\n",
            "           2       0.81      0.63      0.71        60\n",
            "           3       0.54      0.77      0.63       187\n",
            "           4       0.68      0.79      0.73       223\n",
            "           5       0.34      0.11      0.16        93\n",
            "           6       0.45      0.25      0.32        20\n",
            "           7       0.29      0.14      0.19        42\n",
            "           8       0.77      0.40      0.53        82\n",
            "           9       0.60      0.88      0.71       203\n",
            "          10       0.58      0.57      0.58       124\n",
            "          11       0.57      0.51      0.54        85\n",
            "\n",
            "    accuracy                           0.60      1200\n",
            "   macro avg       0.56      0.45      0.47      1200\n",
            "weighted avg       0.59      0.60      0.57      1200\n",
            "\n"
          ],
          "name": "stdout"
        }
      ]
    },
    {
      "cell_type": "code",
      "metadata": {
        "id": "3N4JHEu4poVE",
        "colab_type": "code",
        "outputId": "db0de3b0-4f21-4e0f-f1b3-36545924be7e",
        "colab": {
          "base_uri": "https://localhost:8080/",
          "height": 480
        }
      },
      "source": [
        "EVAL_MEASURE = 'accuracy'\n",
        "\n",
        "# your code goes here\n",
        "fig = plt.figure(figsize=(8,6)) \n",
        "\n",
        "_data_plot = [results[_modelname][EVAL_MEASURE] for _modelname in modelnames]\n",
        "\n",
        "plt.bar(modelnames, _data_plot)\n",
        "    \n",
        "plt.ylabel(EVAL_MEASURE, fontsize=18)\n",
        "plt.tick_params(axis='both', which='major', labelsize=16)\n",
        "plt.tick_params(axis='both', which='minor', labelsize=12)\n",
        "plt.xticks(rotation=90)\n",
        "\n",
        "plt.show()"
      ],
      "execution_count": 0,
      "outputs": [
        {
          "output_type": "display_data",
          "data": {
            "image/png": "[encoded data removed]",
            "text/plain": [
              "<Figure size 576x432 with 1 Axes>"
            ]
          },
          "metadata": {
            "tags": [],
            "needs_background": "light"
          }
        }
      ]
    },
    {
      "cell_type": "code",
      "metadata": {
        "id": "B06MupxrpoVh",
        "colab_type": "code",
        "outputId": "625f0646-f86f-4a8f-a593-5ca8643bcaed",
        "colab": {
          "base_uri": "https://localhost:8080/",
          "height": 1000
        }
      },
      "source": [
        "EVAL_MEASURE = 'precision'\n",
        "\n",
        "MODEL_NAME = ##?\n",
        "\n",
        "# your code goes here\n",
        "def plot(MODEL_NAME,EVAL_MEASURE):#turned into function because looks better\n",
        "  fig = plt.figure(figsize=(8,6)) \n",
        "\n",
        "  _labelids=[x for x in results[MODEL_NAME].keys()][:12]\n",
        "  _labeltexts=[]\n",
        "  _res = []\n",
        "  for _lid in _labelids:\n",
        "      for _ltext in labelcaptions:\n",
        "          if str(labelcaptions[_ltext])==_lid:\n",
        "              _labeltexts.append(_ltext)\n",
        "              \n",
        "      _res.append(results[MODEL_NAME][_lid][EVAL_MEASURE])\n",
        "\n",
        "  plt.bar(_labeltexts, _res)\n",
        "      \n",
        "  plt.title(\"Per Class Evaluation of %s\" % (MODEL_NAME), fontsize=15)\n",
        "  plt.ylabel(\"%s\" % (EVAL_MEASURE), fontsize=15)\n",
        "  plt.tick_params(axis='both', which='major', labelsize=16)\n",
        "  plt.tick_params(axis='both', which='minor', labelsize=12)\n",
        "\n",
        "  plt.xticks(rotation=90)\n",
        "  plt.show()\n",
        "models = ['NaiveBayes','kNN','RandomForest']\n",
        "for model in models:\n",
        "  plot(model,EVAL_MEASURE)"
      ],
      "execution_count": 0,
      "outputs": [
        {
          "output_type": "display_data",
          "data": {
            "image/png": "[encoded data removed]",
            "text/plain": [
              "<Figure size 576x432 with 1 Axes>"
            ]
          },
          "metadata": {
            "tags": [],
            "needs_background": "light"
          }
        },
        {
          "output_type": "display_data",
          "data": {
            "image/png": "[encoded data removed]",
            "text/plain": [
              "<Figure size 576x432 with 1 Axes>"
            ]
          },
          "metadata": {
            "tags": [],
            "needs_background": "light"
          }
        },
        {
          "output_type": "display_data",
          "data": {
            "image/png": "[encoded data removed]",
            "text/plain": [
              "<Figure size 576x432 with 1 Axes>"
            ]
          },
          "metadata": {
            "tags": [],
            "needs_background": "light"
          }
        }
      ]
    }
  ]
}